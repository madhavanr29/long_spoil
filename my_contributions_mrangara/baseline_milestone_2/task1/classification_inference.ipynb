{
  "cells": [
    {
      "cell_type": "code",
      "execution_count": null,
      "metadata": {
        "id": "m9pOWyk-hDMb"
      },
      "outputs": [],
      "source": [
        "import numpy as np\n",
        "import pandas as pd\n",
        "from gensim.models import Word2Vec"
      ]
    },
    {
      "cell_type": "code",
      "execution_count": null,
      "metadata": {
        "id": "w7jjEsBQgx0-"
      },
      "outputs": [],
      "source": [
        "train_import = pd.read_json('/content/drive/MyDrive/NLP Project Files/Maddy/data/train.jsonl', lines = True)\n",
        "test_import = pd.read_json('/content/drive/MyDrive/NLP Project Files/Maddy/data/validation.jsonl', lines = True)"
      ]
    },
    {
      "cell_type": "code",
      "execution_count": null,
      "metadata": {
        "id": "rAiKxSxryTyt"
      },
      "outputs": [],
      "source": []
    },
    {
      "cell_type": "code",
      "execution_count": null,
      "metadata": {
        "colab": {
          "base_uri": "https://localhost:8080/",
          "height": 721
        },
        "id": "hV34SeDyhRup",
        "outputId": "fd74d131-3615-44b4-aec1-49bcb93ac0bc"
      },
      "outputs": [
        {
          "data": {
            "text/html": [
              "\n",
              "  <div id=\"df-28370187-0903-4b6c-ab99-b4e8fcbd094e\">\n",
              "    <div class=\"colab-df-container\">\n",
              "      <div>\n",
              "<style scoped>\n",
              "    .dataframe tbody tr th:only-of-type {\n",
              "        vertical-align: middle;\n",
              "    }\n",
              "\n",
              "    .dataframe tbody tr th {\n",
              "        vertical-align: top;\n",
              "    }\n",
              "\n",
              "    .dataframe thead th {\n",
              "        text-align: right;\n",
              "    }\n",
              "</style>\n",
              "<table border=\"1\" class=\"dataframe\">\n",
              "  <thead>\n",
              "    <tr style=\"text-align: right;\">\n",
              "      <th></th>\n",
              "      <th>uuid</th>\n",
              "      <th>postId</th>\n",
              "      <th>postText</th>\n",
              "      <th>postPlatform</th>\n",
              "      <th>targetParagraphs</th>\n",
              "      <th>targetTitle</th>\n",
              "      <th>targetDescription</th>\n",
              "      <th>targetKeywords</th>\n",
              "      <th>targetMedia</th>\n",
              "      <th>targetUrl</th>\n",
              "      <th>provenance</th>\n",
              "      <th>spoiler</th>\n",
              "      <th>spoilerPositions</th>\n",
              "      <th>tags</th>\n",
              "    </tr>\n",
              "  </thead>\n",
              "  <tbody>\n",
              "    <tr>\n",
              "      <th>0</th>\n",
              "      <td>0af11f6b-c889-4520-9372-66ba25cb7657</td>\n",
              "      <td>532quh</td>\n",
              "      <td>[Wes Welker Wanted Dinner With Tom Brady, But ...</td>\n",
              "      <td>reddit</td>\n",
              "      <td>[It’ll be just like old times this weekend for...</td>\n",
              "      <td>Wes Welker Wanted Dinner With Tom Brady, But P...</td>\n",
              "      <td>It'll be just like old times this weekend for ...</td>\n",
              "      <td>new england patriots, ricky doyle, top stories,</td>\n",
              "      <td>[http://pixel.wp.com/b.gif?v=noscript, http://...</td>\n",
              "      <td>http://nesn.com/2016/09/wes-welker-wanted-dinn...</td>\n",
              "      <td>{'source': 'anonymized', 'humanSpoiler': 'They...</td>\n",
              "      <td>[how about that morning we go throw?]</td>\n",
              "      <td>[[[3, 151], [3, 186]]]</td>\n",
              "      <td>[passage]</td>\n",
              "    </tr>\n",
              "    <tr>\n",
              "      <th>1</th>\n",
              "      <td>b1a1f63d-8853-4a11-89e8-6b2952a393ec</td>\n",
              "      <td>411701128456593408</td>\n",
              "      <td>[NASA sets date for full recovery of ozone hole]</td>\n",
              "      <td>Twitter</td>\n",
              "      <td>[2070 is shaping up to be a great year for Mot...</td>\n",
              "      <td>Hole In Ozone Layer Expected To Make Full Reco...</td>\n",
              "      <td>2070 is shaping up to be a great year for Moth...</td>\n",
              "      <td>ozone layer,ozone hole determined by weather,M...</td>\n",
              "      <td>[http://s.m.huffpost.com/assets/Logo_Huffingto...</td>\n",
              "      <td>http://huff.to/1cH672Z</td>\n",
              "      <td>{'source': 'anonymized', 'humanSpoiler': '2070...</td>\n",
              "      <td>[2070]</td>\n",
              "      <td>[[[0, 0], [0, 4]]]</td>\n",
              "      <td>[phrase]</td>\n",
              "    </tr>\n",
              "    <tr>\n",
              "      <th>2</th>\n",
              "      <td>008b7b19-0445-4e16-8f9e-075b73f80ca4</td>\n",
              "      <td>380537005123190784</td>\n",
              "      <td>[This is what makes employees happy -- and it'...</td>\n",
              "      <td>Twitter</td>\n",
              "      <td>[Despite common belief, money isn't the key to...</td>\n",
              "      <td>Intellectual Stimulation Trumps Money For Empl...</td>\n",
              "      <td>By: Chad Brooks \\r\\nPublished: 09/18/2013 06:4...</td>\n",
              "      <td>employee happiness money,employee happiness in...</td>\n",
              "      <td>[http://i.huffpost.com/gen/1359674/images/o-HA...</td>\n",
              "      <td>http://huff.to/1epfeaw</td>\n",
              "      <td>{'source': 'anonymized', 'humanSpoiler': 'Inte...</td>\n",
              "      <td>[intellectual stimulation]</td>\n",
              "      <td>[[[1, 186], [1, 210]]]</td>\n",
              "      <td>[phrase]</td>\n",
              "    </tr>\n",
              "    <tr>\n",
              "      <th>3</th>\n",
              "      <td>31ecf93c-3e21-4c80-949b-aa549a046b93</td>\n",
              "      <td>844567852531286016</td>\n",
              "      <td>[Passion is overrated — 7 work habits you need...</td>\n",
              "      <td>Twitter</td>\n",
              "      <td>[It’s common wisdom. Near gospel really, and n...</td>\n",
              "      <td>‘Follow your passion’ is wrong, here are 7 hab...</td>\n",
              "      <td>There's a lot more to work that loving your job</td>\n",
              "      <td>business, work-life, careers</td>\n",
              "      <td>None</td>\n",
              "      <td>None</td>\n",
              "      <td>{'source': 'anonymized', 'humanSpoiler': None,...</td>\n",
              "      <td>[Purpose connects us to something bigger and i...</td>\n",
              "      <td>[[[11, 25], [11, 101]], [[17, 56], [17, 85]], ...</td>\n",
              "      <td>[multi]</td>\n",
              "    </tr>\n",
              "    <tr>\n",
              "      <th>4</th>\n",
              "      <td>31b108a3-c828-421a-a4b9-cf651e9ac859</td>\n",
              "      <td>814186311573766144</td>\n",
              "      <td>[The perfect way to cook rice so that it's per...</td>\n",
              "      <td>Twitter</td>\n",
              "      <td>[Boiling rice may seem simple, but there is a ...</td>\n",
              "      <td>Revealed: The perfect way to cook rice so that...</td>\n",
              "      <td>The question 'How does one cook rice properly?...</td>\n",
              "      <td>Quora,users,share,perfect,way,cook,rice</td>\n",
              "      <td>None</td>\n",
              "      <td>None</td>\n",
              "      <td>{'source': 'anonymized', 'humanSpoiler': None,...</td>\n",
              "      <td>[in a rice cooker]</td>\n",
              "      <td>[[[5, 60], [5, 76]]]</td>\n",
              "      <td>[phrase]</td>\n",
              "    </tr>\n",
              "  </tbody>\n",
              "</table>\n",
              "</div>\n",
              "      <button class=\"colab-df-convert\" onclick=\"convertToInteractive('df-28370187-0903-4b6c-ab99-b4e8fcbd094e')\"\n",
              "              title=\"Convert this dataframe to an interactive table.\"\n",
              "              style=\"display:none;\">\n",
              "        \n",
              "  <svg xmlns=\"http://www.w3.org/2000/svg\" height=\"24px\"viewBox=\"0 0 24 24\"\n",
              "       width=\"24px\">\n",
              "    <path d=\"M0 0h24v24H0V0z\" fill=\"none\"/>\n",
              "    <path d=\"M18.56 5.44l.94 2.06.94-2.06 2.06-.94-2.06-.94-.94-2.06-.94 2.06-2.06.94zm-11 1L8.5 8.5l.94-2.06 2.06-.94-2.06-.94L8.5 2.5l-.94 2.06-2.06.94zm10 10l.94 2.06.94-2.06 2.06-.94-2.06-.94-.94-2.06-.94 2.06-2.06.94z\"/><path d=\"M17.41 7.96l-1.37-1.37c-.4-.4-.92-.59-1.43-.59-.52 0-1.04.2-1.43.59L10.3 9.45l-7.72 7.72c-.78.78-.78 2.05 0 2.83L4 21.41c.39.39.9.59 1.41.59.51 0 1.02-.2 1.41-.59l7.78-7.78 2.81-2.81c.8-.78.8-2.07 0-2.86zM5.41 20L4 18.59l7.72-7.72 1.47 1.35L5.41 20z\"/>\n",
              "  </svg>\n",
              "      </button>\n",
              "      \n",
              "  <style>\n",
              "    .colab-df-container {\n",
              "      display:flex;\n",
              "      flex-wrap:wrap;\n",
              "      gap: 12px;\n",
              "    }\n",
              "\n",
              "    .colab-df-convert {\n",
              "      background-color: #E8F0FE;\n",
              "      border: none;\n",
              "      border-radius: 50%;\n",
              "      cursor: pointer;\n",
              "      display: none;\n",
              "      fill: #1967D2;\n",
              "      height: 32px;\n",
              "      padding: 0 0 0 0;\n",
              "      width: 32px;\n",
              "    }\n",
              "\n",
              "    .colab-df-convert:hover {\n",
              "      background-color: #E2EBFA;\n",
              "      box-shadow: 0px 1px 2px rgba(60, 64, 67, 0.3), 0px 1px 3px 1px rgba(60, 64, 67, 0.15);\n",
              "      fill: #174EA6;\n",
              "    }\n",
              "\n",
              "    [theme=dark] .colab-df-convert {\n",
              "      background-color: #3B4455;\n",
              "      fill: #D2E3FC;\n",
              "    }\n",
              "\n",
              "    [theme=dark] .colab-df-convert:hover {\n",
              "      background-color: #434B5C;\n",
              "      box-shadow: 0px 1px 3px 1px rgba(0, 0, 0, 0.15);\n",
              "      filter: drop-shadow(0px 1px 2px rgba(0, 0, 0, 0.3));\n",
              "      fill: #FFFFFF;\n",
              "    }\n",
              "  </style>\n",
              "\n",
              "      <script>\n",
              "        const buttonEl =\n",
              "          document.querySelector('#df-28370187-0903-4b6c-ab99-b4e8fcbd094e button.colab-df-convert');\n",
              "        buttonEl.style.display =\n",
              "          google.colab.kernel.accessAllowed ? 'block' : 'none';\n",
              "\n",
              "        async function convertToInteractive(key) {\n",
              "          const element = document.querySelector('#df-28370187-0903-4b6c-ab99-b4e8fcbd094e');\n",
              "          const dataTable =\n",
              "            await google.colab.kernel.invokeFunction('convertToInteractive',\n",
              "                                                     [key], {});\n",
              "          if (!dataTable) return;\n",
              "\n",
              "          const docLinkHtml = 'Like what you see? Visit the ' +\n",
              "            '<a target=\"_blank\" href=https://colab.research.google.com/notebooks/data_table.ipynb>data table notebook</a>'\n",
              "            + ' to learn more about interactive tables.';\n",
              "          element.innerHTML = '';\n",
              "          dataTable['output_type'] = 'display_data';\n",
              "          await google.colab.output.renderOutput(dataTable, element);\n",
              "          const docLink = document.createElement('div');\n",
              "          docLink.innerHTML = docLinkHtml;\n",
              "          element.appendChild(docLink);\n",
              "        }\n",
              "      </script>\n",
              "    </div>\n",
              "  </div>\n",
              "  "
            ],
            "text/plain": [
              "                                   uuid              postId  \\\n",
              "0  0af11f6b-c889-4520-9372-66ba25cb7657              532quh   \n",
              "1  b1a1f63d-8853-4a11-89e8-6b2952a393ec  411701128456593408   \n",
              "2  008b7b19-0445-4e16-8f9e-075b73f80ca4  380537005123190784   \n",
              "3  31ecf93c-3e21-4c80-949b-aa549a046b93  844567852531286016   \n",
              "4  31b108a3-c828-421a-a4b9-cf651e9ac859  814186311573766144   \n",
              "\n",
              "                                            postText postPlatform  \\\n",
              "0  [Wes Welker Wanted Dinner With Tom Brady, But ...       reddit   \n",
              "1   [NASA sets date for full recovery of ozone hole]      Twitter   \n",
              "2  [This is what makes employees happy -- and it'...      Twitter   \n",
              "3  [Passion is overrated — 7 work habits you need...      Twitter   \n",
              "4  [The perfect way to cook rice so that it's per...      Twitter   \n",
              "\n",
              "                                    targetParagraphs  \\\n",
              "0  [It’ll be just like old times this weekend for...   \n",
              "1  [2070 is shaping up to be a great year for Mot...   \n",
              "2  [Despite common belief, money isn't the key to...   \n",
              "3  [It’s common wisdom. Near gospel really, and n...   \n",
              "4  [Boiling rice may seem simple, but there is a ...   \n",
              "\n",
              "                                         targetTitle  \\\n",
              "0  Wes Welker Wanted Dinner With Tom Brady, But P...   \n",
              "1  Hole In Ozone Layer Expected To Make Full Reco...   \n",
              "2  Intellectual Stimulation Trumps Money For Empl...   \n",
              "3  ‘Follow your passion’ is wrong, here are 7 hab...   \n",
              "4  Revealed: The perfect way to cook rice so that...   \n",
              "\n",
              "                                   targetDescription  \\\n",
              "0  It'll be just like old times this weekend for ...   \n",
              "1  2070 is shaping up to be a great year for Moth...   \n",
              "2  By: Chad Brooks \\r\\nPublished: 09/18/2013 06:4...   \n",
              "3    There's a lot more to work that loving your job   \n",
              "4  The question 'How does one cook rice properly?...   \n",
              "\n",
              "                                      targetKeywords  \\\n",
              "0    new england patriots, ricky doyle, top stories,   \n",
              "1  ozone layer,ozone hole determined by weather,M...   \n",
              "2  employee happiness money,employee happiness in...   \n",
              "3                       business, work-life, careers   \n",
              "4            Quora,users,share,perfect,way,cook,rice   \n",
              "\n",
              "                                         targetMedia  \\\n",
              "0  [http://pixel.wp.com/b.gif?v=noscript, http://...   \n",
              "1  [http://s.m.huffpost.com/assets/Logo_Huffingto...   \n",
              "2  [http://i.huffpost.com/gen/1359674/images/o-HA...   \n",
              "3                                               None   \n",
              "4                                               None   \n",
              "\n",
              "                                           targetUrl  \\\n",
              "0  http://nesn.com/2016/09/wes-welker-wanted-dinn...   \n",
              "1                             http://huff.to/1cH672Z   \n",
              "2                             http://huff.to/1epfeaw   \n",
              "3                                               None   \n",
              "4                                               None   \n",
              "\n",
              "                                          provenance  \\\n",
              "0  {'source': 'anonymized', 'humanSpoiler': 'They...   \n",
              "1  {'source': 'anonymized', 'humanSpoiler': '2070...   \n",
              "2  {'source': 'anonymized', 'humanSpoiler': 'Inte...   \n",
              "3  {'source': 'anonymized', 'humanSpoiler': None,...   \n",
              "4  {'source': 'anonymized', 'humanSpoiler': None,...   \n",
              "\n",
              "                                             spoiler  \\\n",
              "0              [how about that morning we go throw?]   \n",
              "1                                             [2070]   \n",
              "2                         [intellectual stimulation]   \n",
              "3  [Purpose connects us to something bigger and i...   \n",
              "4                                 [in a rice cooker]   \n",
              "\n",
              "                                    spoilerPositions       tags  \n",
              "0                             [[[3, 151], [3, 186]]]  [passage]  \n",
              "1                                 [[[0, 0], [0, 4]]]   [phrase]  \n",
              "2                             [[[1, 186], [1, 210]]]   [phrase]  \n",
              "3  [[[11, 25], [11, 101]], [[17, 56], [17, 85]], ...    [multi]  \n",
              "4                               [[[5, 60], [5, 76]]]   [phrase]  "
            ]
          },
          "execution_count": 3,
          "metadata": {},
          "output_type": "execute_result"
        }
      ],
      "source": [
        "train_import.head()"
      ]
    },
    {
      "cell_type": "code",
      "execution_count": null,
      "metadata": {
        "colab": {
          "base_uri": "https://localhost:8080/"
        },
        "id": "AuGqUnfMhebq",
        "outputId": "18587381-6000-414b-8a92-5742c8c02bd7"
      },
      "outputs": [
        {
          "data": {
            "text/plain": [
              "uuid                    0\n",
              "postId                  0\n",
              "postText                0\n",
              "postPlatform            0\n",
              "targetParagraphs        0\n",
              "targetTitle             0\n",
              "targetDescription     267\n",
              "targetKeywords       1084\n",
              "targetMedia           515\n",
              "targetUrl             483\n",
              "provenance              0\n",
              "spoiler                 0\n",
              "spoilerPositions        0\n",
              "tags                    0\n",
              "dtype: int64"
            ]
          },
          "execution_count": 4,
          "metadata": {},
          "output_type": "execute_result"
        }
      ],
      "source": [
        "train_import.isnull().sum()"
      ]
    },
    {
      "cell_type": "code",
      "execution_count": null,
      "metadata": {
        "colab": {
          "base_uri": "https://localhost:8080/"
        },
        "id": "bfUt8lXIhf03",
        "outputId": "d05e9eb4-35ba-4c1a-b05b-23aba387fe83"
      },
      "outputs": [
        {
          "data": {
            "text/plain": [
              "(3200, 14)"
            ]
          },
          "execution_count": 5,
          "metadata": {},
          "output_type": "execute_result"
        }
      ],
      "source": [
        "train_import.shape"
      ]
    },
    {
      "cell_type": "code",
      "execution_count": null,
      "metadata": {
        "colab": {
          "base_uri": "https://localhost:8080/"
        },
        "id": "-K1qDu9HhhQQ",
        "outputId": "52fdb30b-2ed3-4707-ab3d-4f8b6560873c"
      },
      "outputs": [
        {
          "data": {
            "text/plain": [
              "1"
            ]
          },
          "execution_count": 6,
          "metadata": {},
          "output_type": "execute_result"
        }
      ],
      "source": [
        "train_import['tags'].map(lambda x: len(x)).max()"
      ]
    },
    {
      "cell_type": "code",
      "execution_count": null,
      "metadata": {
        "id": "HPwaPbxohiqe"
      },
      "outputs": [],
      "source": [
        "train_import['tags'] = train_import['tags'].map(lambda x: x[0])"
      ]
    },
    {
      "cell_type": "code",
      "execution_count": null,
      "metadata": {
        "colab": {
          "base_uri": "https://localhost:8080/"
        },
        "id": "thCz-53Chj5m",
        "outputId": "c38f5798-07b1-4fda-e892-d56e2ef80a9e"
      },
      "outputs": [
        {
          "data": {
            "text/plain": [
              "uuid                    0\n",
              "postId                  0\n",
              "postText                0\n",
              "postPlatform            0\n",
              "targetParagraphs        0\n",
              "targetTitle             0\n",
              "targetDescription     267\n",
              "targetKeywords       1084\n",
              "targetMedia           515\n",
              "targetUrl             483\n",
              "provenance              0\n",
              "spoiler                 0\n",
              "spoilerPositions        0\n",
              "tags                    0\n",
              "dtype: int64"
            ]
          },
          "execution_count": 8,
          "metadata": {},
          "output_type": "execute_result"
        }
      ],
      "source": [
        "train_import.isnull().sum()"
      ]
    },
    {
      "cell_type": "code",
      "execution_count": null,
      "metadata": {
        "colab": {
          "base_uri": "https://localhost:8080/"
        },
        "id": "JdEa1VJVhlfU",
        "outputId": "87f396b5-c2e0-46db-f576-f1c064b5a4af"
      },
      "outputs": [
        {
          "data": {
            "text/plain": [
              "phrase     1367\n",
              "passage    1274\n",
              "multi       559\n",
              "Name: tags, dtype: int64"
            ]
          },
          "execution_count": 9,
          "metadata": {},
          "output_type": "execute_result"
        }
      ],
      "source": [
        "train_import['tags'].value_counts()"
      ]
    },
    {
      "cell_type": "code",
      "execution_count": null,
      "metadata": {
        "colab": {
          "base_uri": "https://localhost:8080/"
        },
        "id": "aGAzBpXIhnBr",
        "outputId": "ac8d0ac4-3412-43f2-8611-48017348f267"
      },
      "outputs": [
        {
          "data": {
            "text/plain": [
              "1.0"
            ]
          },
          "execution_count": 10,
          "metadata": {},
          "output_type": "execute_result"
        }
      ],
      "source": [
        "train_import.uuid.nunique()/ len(train_import)"
      ]
    },
    {
      "cell_type": "code",
      "execution_count": null,
      "metadata": {
        "id": "4cpFQT13hoSr"
      },
      "outputs": [],
      "source": [
        "train_import = train_import.set_index('uuid')"
      ]
    },
    {
      "cell_type": "code",
      "execution_count": null,
      "metadata": {
        "id": "rlS9ZsRShvMV"
      },
      "outputs": [],
      "source": [
        "train_import['processedParagpraphs'] = train_import['targetParagraphs'].map(lambda x: '. '.join(x))"
      ]
    },
    {
      "cell_type": "code",
      "execution_count": null,
      "metadata": {
        "id": "FGOgcBqs7DPw"
      },
      "outputs": [],
      "source": [
        "train_import['processedText'] = train_import['postText'].map(lambda x: x[0])"
      ]
    },
    {
      "cell_type": "code",
      "execution_count": null,
      "metadata": {
        "id": "sO5TKYEBhw8M"
      },
      "outputs": [],
      "source": [
        "import nltk\n",
        "import re\n",
        "from nltk.corpus import stopwords"
      ]
    },
    {
      "cell_type": "code",
      "execution_count": null,
      "metadata": {
        "colab": {
          "base_uri": "https://localhost:8080/"
        },
        "id": "jJ40e624hyX0",
        "outputId": "ea9b7a7a-75d5-4a39-e739-7c1fd6f9d515"
      },
      "outputs": [
        {
          "name": "stderr",
          "output_type": "stream",
          "text": [
            "[nltk_data] Downloading package stopwords to /root/nltk_data...\n",
            "[nltk_data]   Unzipping corpora/stopwords.zip.\n",
            "[nltk_data] Downloading package wordnet to /root/nltk_data...\n"
          ]
        },
        {
          "data": {
            "text/plain": [
              "True"
            ]
          },
          "execution_count": 15,
          "metadata": {},
          "output_type": "execute_result"
        }
      ],
      "source": [
        "nltk.download('stopwords')\n",
        "nltk.download('wordnet')"
      ]
    },
    {
      "cell_type": "code",
      "execution_count": null,
      "metadata": {
        "colab": {
          "base_uri": "https://localhost:8080/",
          "height": 455
        },
        "id": "z32BTEG8ReJB",
        "outputId": "d5e0be1d-43b1-49e3-a749-63538c49d9eb"
      },
      "outputs": [
        {
          "data": {
            "text/html": [
              "\n",
              "  <div id=\"df-345b5dd3-3e3d-438a-92b9-48e908f0c9be\">\n",
              "    <div class=\"colab-df-container\">\n",
              "      <div>\n",
              "<style scoped>\n",
              "    .dataframe tbody tr th:only-of-type {\n",
              "        vertical-align: middle;\n",
              "    }\n",
              "\n",
              "    .dataframe tbody tr th {\n",
              "        vertical-align: top;\n",
              "    }\n",
              "\n",
              "    .dataframe thead th {\n",
              "        text-align: right;\n",
              "    }\n",
              "</style>\n",
              "<table border=\"1\" class=\"dataframe\">\n",
              "  <thead>\n",
              "    <tr style=\"text-align: right;\">\n",
              "      <th></th>\n",
              "      <th>Facebook</th>\n",
              "      <th>Twitter</th>\n",
              "      <th>reddit</th>\n",
              "    </tr>\n",
              "    <tr>\n",
              "      <th>uuid</th>\n",
              "      <th></th>\n",
              "      <th></th>\n",
              "      <th></th>\n",
              "    </tr>\n",
              "  </thead>\n",
              "  <tbody>\n",
              "    <tr>\n",
              "      <th>0af11f6b-c889-4520-9372-66ba25cb7657</th>\n",
              "      <td>0</td>\n",
              "      <td>0</td>\n",
              "      <td>1</td>\n",
              "    </tr>\n",
              "    <tr>\n",
              "      <th>b1a1f63d-8853-4a11-89e8-6b2952a393ec</th>\n",
              "      <td>0</td>\n",
              "      <td>1</td>\n",
              "      <td>0</td>\n",
              "    </tr>\n",
              "    <tr>\n",
              "      <th>008b7b19-0445-4e16-8f9e-075b73f80ca4</th>\n",
              "      <td>0</td>\n",
              "      <td>1</td>\n",
              "      <td>0</td>\n",
              "    </tr>\n",
              "    <tr>\n",
              "      <th>31ecf93c-3e21-4c80-949b-aa549a046b93</th>\n",
              "      <td>0</td>\n",
              "      <td>1</td>\n",
              "      <td>0</td>\n",
              "    </tr>\n",
              "    <tr>\n",
              "      <th>31b108a3-c828-421a-a4b9-cf651e9ac859</th>\n",
              "      <td>0</td>\n",
              "      <td>1</td>\n",
              "      <td>0</td>\n",
              "    </tr>\n",
              "    <tr>\n",
              "      <th>...</th>\n",
              "      <td>...</td>\n",
              "      <td>...</td>\n",
              "      <td>...</td>\n",
              "    </tr>\n",
              "    <tr>\n",
              "      <th>92578045-699f-4957-a3c5-cff2c3874dae</th>\n",
              "      <td>0</td>\n",
              "      <td>1</td>\n",
              "      <td>0</td>\n",
              "    </tr>\n",
              "    <tr>\n",
              "      <th>51682121-df0b-4289-a95f-e1bc3d181306</th>\n",
              "      <td>1</td>\n",
              "      <td>0</td>\n",
              "      <td>0</td>\n",
              "    </tr>\n",
              "    <tr>\n",
              "      <th>9c45ca67-38c4-47b4-aa0d-48434bae09fc</th>\n",
              "      <td>0</td>\n",
              "      <td>1</td>\n",
              "      <td>0</td>\n",
              "    </tr>\n",
              "    <tr>\n",
              "      <th>9d05984c-3920-47c0-aa97-8df58cca1fec</th>\n",
              "      <td>0</td>\n",
              "      <td>1</td>\n",
              "      <td>0</td>\n",
              "    </tr>\n",
              "    <tr>\n",
              "      <th>0d9e3a31-77f7-414a-9d70-5213f2c0cd94</th>\n",
              "      <td>0</td>\n",
              "      <td>1</td>\n",
              "      <td>0</td>\n",
              "    </tr>\n",
              "  </tbody>\n",
              "</table>\n",
              "<p>3200 rows × 3 columns</p>\n",
              "</div>\n",
              "      <button class=\"colab-df-convert\" onclick=\"convertToInteractive('df-345b5dd3-3e3d-438a-92b9-48e908f0c9be')\"\n",
              "              title=\"Convert this dataframe to an interactive table.\"\n",
              "              style=\"display:none;\">\n",
              "        \n",
              "  <svg xmlns=\"http://www.w3.org/2000/svg\" height=\"24px\"viewBox=\"0 0 24 24\"\n",
              "       width=\"24px\">\n",
              "    <path d=\"M0 0h24v24H0V0z\" fill=\"none\"/>\n",
              "    <path d=\"M18.56 5.44l.94 2.06.94-2.06 2.06-.94-2.06-.94-.94-2.06-.94 2.06-2.06.94zm-11 1L8.5 8.5l.94-2.06 2.06-.94-2.06-.94L8.5 2.5l-.94 2.06-2.06.94zm10 10l.94 2.06.94-2.06 2.06-.94-2.06-.94-.94-2.06-.94 2.06-2.06.94z\"/><path d=\"M17.41 7.96l-1.37-1.37c-.4-.4-.92-.59-1.43-.59-.52 0-1.04.2-1.43.59L10.3 9.45l-7.72 7.72c-.78.78-.78 2.05 0 2.83L4 21.41c.39.39.9.59 1.41.59.51 0 1.02-.2 1.41-.59l7.78-7.78 2.81-2.81c.8-.78.8-2.07 0-2.86zM5.41 20L4 18.59l7.72-7.72 1.47 1.35L5.41 20z\"/>\n",
              "  </svg>\n",
              "      </button>\n",
              "      \n",
              "  <style>\n",
              "    .colab-df-container {\n",
              "      display:flex;\n",
              "      flex-wrap:wrap;\n",
              "      gap: 12px;\n",
              "    }\n",
              "\n",
              "    .colab-df-convert {\n",
              "      background-color: #E8F0FE;\n",
              "      border: none;\n",
              "      border-radius: 50%;\n",
              "      cursor: pointer;\n",
              "      display: none;\n",
              "      fill: #1967D2;\n",
              "      height: 32px;\n",
              "      padding: 0 0 0 0;\n",
              "      width: 32px;\n",
              "    }\n",
              "\n",
              "    .colab-df-convert:hover {\n",
              "      background-color: #E2EBFA;\n",
              "      box-shadow: 0px 1px 2px rgba(60, 64, 67, 0.3), 0px 1px 3px 1px rgba(60, 64, 67, 0.15);\n",
              "      fill: #174EA6;\n",
              "    }\n",
              "\n",
              "    [theme=dark] .colab-df-convert {\n",
              "      background-color: #3B4455;\n",
              "      fill: #D2E3FC;\n",
              "    }\n",
              "\n",
              "    [theme=dark] .colab-df-convert:hover {\n",
              "      background-color: #434B5C;\n",
              "      box-shadow: 0px 1px 3px 1px rgba(0, 0, 0, 0.15);\n",
              "      filter: drop-shadow(0px 1px 2px rgba(0, 0, 0, 0.3));\n",
              "      fill: #FFFFFF;\n",
              "    }\n",
              "  </style>\n",
              "\n",
              "      <script>\n",
              "        const buttonEl =\n",
              "          document.querySelector('#df-345b5dd3-3e3d-438a-92b9-48e908f0c9be button.colab-df-convert');\n",
              "        buttonEl.style.display =\n",
              "          google.colab.kernel.accessAllowed ? 'block' : 'none';\n",
              "\n",
              "        async function convertToInteractive(key) {\n",
              "          const element = document.querySelector('#df-345b5dd3-3e3d-438a-92b9-48e908f0c9be');\n",
              "          const dataTable =\n",
              "            await google.colab.kernel.invokeFunction('convertToInteractive',\n",
              "                                                     [key], {});\n",
              "          if (!dataTable) return;\n",
              "\n",
              "          const docLinkHtml = 'Like what you see? Visit the ' +\n",
              "            '<a target=\"_blank\" href=https://colab.research.google.com/notebooks/data_table.ipynb>data table notebook</a>'\n",
              "            + ' to learn more about interactive tables.';\n",
              "          element.innerHTML = '';\n",
              "          dataTable['output_type'] = 'display_data';\n",
              "          await google.colab.output.renderOutput(dataTable, element);\n",
              "          const docLink = document.createElement('div');\n",
              "          docLink.innerHTML = docLinkHtml;\n",
              "          element.appendChild(docLink);\n",
              "        }\n",
              "      </script>\n",
              "    </div>\n",
              "  </div>\n",
              "  "
            ],
            "text/plain": [
              "                                      Facebook  Twitter  reddit\n",
              "uuid                                                           \n",
              "0af11f6b-c889-4520-9372-66ba25cb7657         0        0       1\n",
              "b1a1f63d-8853-4a11-89e8-6b2952a393ec         0        1       0\n",
              "008b7b19-0445-4e16-8f9e-075b73f80ca4         0        1       0\n",
              "31ecf93c-3e21-4c80-949b-aa549a046b93         0        1       0\n",
              "31b108a3-c828-421a-a4b9-cf651e9ac859         0        1       0\n",
              "...                                        ...      ...     ...\n",
              "92578045-699f-4957-a3c5-cff2c3874dae         0        1       0\n",
              "51682121-df0b-4289-a95f-e1bc3d181306         1        0       0\n",
              "9c45ca67-38c4-47b4-aa0d-48434bae09fc         0        1       0\n",
              "9d05984c-3920-47c0-aa97-8df58cca1fec         0        1       0\n",
              "0d9e3a31-77f7-414a-9d70-5213f2c0cd94         0        1       0\n",
              "\n",
              "[3200 rows x 3 columns]"
            ]
          },
          "execution_count": 16,
          "metadata": {},
          "output_type": "execute_result"
        }
      ],
      "source": [
        "one_hot_encoded = pd.get_dummies(train_import['postPlatform'])\n",
        "one_hot_encoded"
      ]
    },
    {
      "cell_type": "code",
      "execution_count": null,
      "metadata": {
        "id": "g5wOcfW_SFxh"
      },
      "outputs": [],
      "source": [
        "url_present = train_import['targetUrl'].map(lambda x: 0 if x == None else 1)"
      ]
    },
    {
      "cell_type": "code",
      "execution_count": null,
      "metadata": {
        "id": "igzwSQiyh0X4"
      },
      "outputs": [],
      "source": [
        "from nltk.stem.porter import PorterStemmer\n",
        "from nltk.stem import WordNetLemmatizer\n",
        "ps = WordNetLemmatizer()\n",
        "\n",
        "stop_words = stopwords.words('english')\n",
        "\n",
        "corpus = []\n",
        "morpus = []\n",
        "for i in range(0, len(train_import)):\n",
        "\n",
        "    kb1 = ' '.join([ps.lemmatize(word) for word in  re.sub('[^a-zA-Z]', ' ', train_import['processedParagpraphs'][i]).lower().split() if word not in stop_words])\n",
        "    kb2 = ' '.join([ps.lemmatize(word) for word in  re.sub('[^a-zA-Z]', ' ', train_import['processedText'][i]).lower().split() if word not in stop_words])\n",
        "\n",
        "    corpus.append(kb1)\n",
        "    morpus.append(kb2)"
      ]
    },
    {
      "cell_type": "code",
      "execution_count": null,
      "metadata": {
        "id": "xM6ETsLIVTZm"
      },
      "outputs": [],
      "source": [
        "import gensim\n",
        "word2vec_google = gensim.models.KeyedVectors.load_word2vec_format('/content/drive/MyDrive/NLP Project Files/Maddy/GoogleNews-vectors-negative300.bin.gz', binary=True)\n"
      ]
    },
    {
      "cell_type": "code",
      "execution_count": null,
      "metadata": {
        "id": "5VZWVqVt2qrf"
      },
      "outputs": [],
      "source": [
        "import numpy as np\n",
        "import pandas as pd\n",
        "import matplotlib.pyplot as plt\n",
        "import seaborn as sns\n",
        "import tensorflow as tf\n",
        "from tensorflow.keras.layers import Embedding\n",
        "from tensorflow.keras.preprocessing.sequence import pad_sequences\n",
        "from tensorflow.keras.models import Sequential\n",
        "from tensorflow.keras.preprocessing.text import one_hot\n",
        "from tensorflow.keras.layers import LSTM\n",
        "from tensorflow.keras.layers import Dense\n",
        "     "
      ]
    },
    {
      "cell_type": "code",
      "execution_count": null,
      "metadata": {
        "id": "KieEUtLVjdB-"
      },
      "outputs": [],
      "source": [
        "# voc_size = 15000\n",
        "# corpus_1 =[one_hot(words,voc_size)for words in corpus] \n",
        "# morpus_1 = [one_hot(words,voc_size)for words in morpus] \n",
        "\n",
        "from keras.preprocessing.text import Tokenizer\n",
        "\n",
        "tokenizer = Tokenizer()\n",
        "tokenizer.fit_on_texts(corpus + morpus)\n",
        "corpus_sequences = tokenizer.texts_to_sequences(corpus)\n",
        "morpus_sequences = tokenizer.texts_to_sequences(morpus)\n"
      ]
    },
    {
      "cell_type": "code",
      "execution_count": null,
      "metadata": {
        "colab": {
          "base_uri": "https://localhost:8080/"
        },
        "id": "0p1e39iliws7",
        "outputId": "f9ce4142-60a3-4ffc-e67e-7365f3468a84"
      },
      "outputs": [
        {
          "name": "stdout",
          "output_type": "stream",
          "text": [
            "13826\n"
          ]
        }
      ],
      "source": [
        "maxi=-1\n",
        "for i,rev in enumerate(corpus):\n",
        "    tokens=rev.split()\n",
        "    if(len(tokens)>maxi):\n",
        "        maxi=len(tokens)\n",
        "print(maxi)\n",
        "\n"
      ]
    },
    {
      "cell_type": "code",
      "execution_count": null,
      "metadata": {
        "colab": {
          "base_uri": "https://localhost:8080/"
        },
        "id": "WBnWB1zXi5i2",
        "outputId": "21c83a49-1620-4f52-f674-7a466ab1f0c9"
      },
      "outputs": [
        {
          "name": "stdout",
          "output_type": "stream",
          "text": [
            "15\n"
          ]
        }
      ],
      "source": [
        "maxi=-1\n",
        "for i,rev in enumerate(morpus):\n",
        "    tokens=rev.split()\n",
        "    if(len(tokens)>maxi):\n",
        "        maxi=len(tokens)\n",
        "print(maxi)"
      ]
    },
    {
      "cell_type": "code",
      "execution_count": null,
      "metadata": {
        "colab": {
          "base_uri": "https://localhost:8080/"
        },
        "id": "G7IjM2agh3pJ",
        "outputId": "62ca48cb-8535-4311-ce3f-2eccee5f38a3"
      },
      "outputs": [
        {
          "name": "stdout",
          "output_type": "stream",
          "text": [
            "[[    0     0     0 ... 25759    99   199]\n",
            " [    0     0     0 ...  3023  6026  1002]\n",
            " [    0     0     0 ...   494   411  5908]\n",
            " ...\n",
            " [    0     0     0 ...   461  3119  8962]\n",
            " [    0     0     0 ...  3011 16449  1676]\n",
            " [    0     0     0 ...    50   827   599]]\n",
            "(3200, 15)\n"
          ]
        }
      ],
      "source": [
        "sent_length_1 = 10000\n",
        "sent_length_2 = 15\n",
        "\n",
        "embedded_docs_1=pad_sequences(corpus_sequences,padding='pre',maxlen= sent_length_1)\n",
        "embedded_docs_2=pad_sequences(morpus_sequences,padding='pre',maxlen=sent_length_2)\n",
        "\n",
        "print(embedded_docs_2)\n",
        "print(embedded_docs_2.shape)"
      ]
    },
    {
      "cell_type": "code",
      "execution_count": null,
      "metadata": {
        "id": "F9LedXEs4GBX"
      },
      "outputs": [],
      "source": [
        "voc_size = len(tokenizer.word_index) + 1\n",
        "output_dim=300"
      ]
    },
    {
      "cell_type": "code",
      "execution_count": null,
      "metadata": {
        "colab": {
          "base_uri": "https://localhost:8080/"
        },
        "id": "d2vbqFMOnAiH",
        "outputId": "ba7ea601-4a59-4408-e96a-632dac8d0344"
      },
      "outputs": [
        {
          "name": "stdout",
          "output_type": "stream",
          "text": [
            "The no of key-value pairs :  3000000\n"
          ]
        }
      ],
      "source": [
        "vocab = word2vec_google.key_to_index\n",
        "word_vec_dict={}\n",
        "\n",
        "for word in vocab:\n",
        "  word_vec_dict[word]= word2vec_google.get_vector(word)\n",
        "print(\"The no of key-value pairs : \",len(word_vec_dict))"
      ]
    },
    {
      "cell_type": "code",
      "execution_count": null,
      "metadata": {
        "id": "HW3D8GeYlsFa"
      },
      "outputs": [],
      "source": [
        "embed_matrix= np.zeros(shape=(voc_size,output_dim))\n",
        "\n",
        "for word,i in tokenizer.word_index.items():\n",
        "  embed_vector= word_vec_dict.get(word)\n",
        "  if embed_vector is not None:  # word is in the vocabulary learned by the w2v model\n",
        "    embed_matrix[i]=embed_vector\n",
        "  # if word is not found then embed_vector corressponding to that vector will stay zero."
      ]
    },
    {
      "cell_type": "code",
      "execution_count": null,
      "metadata": {
        "colab": {
          "base_uri": "https://localhost:8080/"
        },
        "id": "iLpXr7aPcZwq",
        "outputId": "c4bb466b-7028-49a9-f97a-f8f95a9f9186"
      },
      "outputs": [
        {
          "data": {
            "text/plain": [
              "(3200, 3)"
            ]
          },
          "execution_count": 28,
          "metadata": {},
          "output_type": "execute_result"
        }
      ],
      "source": [
        "one_hot_encoded.shape"
      ]
    },
    {
      "cell_type": "code",
      "execution_count": null,
      "metadata": {
        "id": "zEF7AGURkdFr"
      },
      "outputs": [],
      "source": [
        "import keras\n",
        "from keras.models import Model\n",
        "from keras.layers import Concatenate, Dropout, BatchNormalization\n",
        "from keras.layers import Activation\n",
        "from keras.layers import Bidirectional, LSTM\n",
        "from keras.layers import Dense\n",
        "from keras.initializers import Constant\n",
        "from keras.regularizers import l1_l2\n",
        "\n",
        "l1_reg = 0.001\n",
        "l2_reg = 0.001\n",
        "\n",
        "input1 = keras.Input(shape=(sent_length_1,))\n",
        "embed1 = Embedding(input_dim=voc_size, output_dim=output_dim, weights=[embed_matrix], trainable=False, input_length=sent_length_1)(input1)\n",
        "lstm1 = Bidirectional(LSTM(64, return_sequences=True))(embed1)\n",
        "lstm1 = Dropout(0.3)(lstm1)\n",
        "lstm1 = Bidirectional(LSTM(32))(lstm1)\n",
        "lstm1 = BatchNormalization()(lstm1)\n",
        "dense_a = Dense(64, activation='relu', kernel_regularizer=l1_l2(l1=l1_reg, l2=l2_reg))(lstm1)\n",
        "drop_b = Dropout(0.3)(dense_a)\n",
        "dense_b = Dense(32, activation='relu', kernel_regularizer=l1_l2(l1=l1_reg, l2=l2_reg))(drop_b)\n",
        "\n",
        "input2 = keras.Input(shape=(sent_length_2,))\n",
        "embed2 = Embedding(input_dim=voc_size, output_dim=output_dim, weights=[embed_matrix], trainable=False, input_length=sent_length_2)(input2)\n",
        "lstm2 = Bidirectional(LSTM(64, return_sequences=True))(embed2)\n",
        "lstm2 = Dropout(0.3)(lstm2)\n",
        "lstm2 = Bidirectional(LSTM(32))(lstm2)\n",
        "lstm2 = BatchNormalization()(lstm2)\n",
        "dense_c = Dense(64, activation='relu', kernel_regularizer=l1_l2(l1=l1_reg, l2=l2_reg))(lstm2)\n",
        "drop_c = Dropout(0.3)(dense_c)\n",
        "dense_d = Dense(32, activation='relu', kernel_regularizer=l1_l2(l1=l1_reg, l2=l2_reg))(drop_c)\n",
        "\n",
        "#input3 = keras.Input(shape=(one_hot_encoded.shape[1],))\n",
        "input4 = keras.Input(shape=(1,))\n",
        "\n",
        "all_mix = Concatenate(axis=1)([dense_b, dense_d, input4])\n",
        "full_dens = Dense(64, activation='relu', kernel_regularizer=l1_l2(l1=l1_reg, l2=l2_reg))(all_mix)\n",
        "full_dens = BatchNormalization()(full_dens)\n",
        "full_dens = Dropout(0.3)(full_dens)\n",
        "full_dens = Dense(32, activation='relu', kernel_regularizer=l1_l2(l1=l1_reg, l2=l2_reg))(full_dens)\n",
        "full_dens = BatchNormalization()(full_dens)\n",
        "full_dens = Dropout(0.3)(full_dens)\n",
        "full_dens = Dense(16, activation='relu', kernel_regularizer=l1_l2(l1=l1_reg, l2=l2_reg))(full_dens)\n",
        "dens = Dense(3, activation='softmax')(full_dens)\n",
        "\n",
        "model = Model(inputs=[input1, input2, input4], outputs=dens)\n",
        "model.compile(loss='categorical_crossentropy', optimizer='adam', metrics=['accuracy', 'AUC'])\n"
      ]
    },
    {
      "cell_type": "code",
      "execution_count": null,
      "metadata": {
        "id": "5on4EZrM4Jk2"
      },
      "outputs": [],
      "source": [
        "import numpy as np\n",
        "X_final_1= np.array(embedded_docs_1)\n",
        "X_final_2 = np.array(embedded_docs_2)\n",
        "\n",
        "#train_import['tags'] = train_import['tags'].replace({\"phrase\": 0, \"passage\": 1, \"multi\": 2 })\n",
        "dummies = pd.get_dummies(train_import['tags']) \n",
        "\n",
        "y_final = np.array(dummies)"
      ]
    },
    {
      "cell_type": "code",
      "execution_count": null,
      "metadata": {
        "id": "jpMyt4Xd49Bh"
      },
      "outputs": [],
      "source": [
        "from sklearn.model_selection import train_test_split\n",
        "X1_train, X1_val, X2_train, X2_val, X3_train, X3_val, X4_train, X4_val, y_train, y_val = train_test_split(X_final_1, X_final_2, url_present, one_hot_encoded, y_final, test_size=0.2, random_state=42, stratify = y_final)"
      ]
    },
    {
      "cell_type": "code",
      "execution_count": null,
      "metadata": {
        "id": "r3vM9fbYu4aP"
      },
      "outputs": [],
      "source": [
        "from sklearn.utils import class_weight\n",
        "\n",
        "class_weights = class_weight.compute_class_weight('balanced', classes = np.unique(y_train.argmax(axis=1)), y = y_train.argmax(axis=1))\n",
        "class_weights_dict = dict(enumerate(class_weights))\n"
      ]
    },
    {
      "cell_type": "code",
      "execution_count": null,
      "metadata": {
        "colab": {
          "base_uri": "https://localhost:8080/",
          "height": 104
        },
        "id": "jUzseaLQ6KIX",
        "outputId": "3092200b-376c-4084-fafc-4200b366ebd0"
      },
      "outputs": [
        {
          "name": "stdout",
          "output_type": "stream",
          "text": [
            "80/80 [==============================] - 39s 404ms/step\n",
            "20/20 [==============================] - 8s 402ms/step\n"
          ]
        },
        {
          "data": {
            "application/vnd.google.colaboratory.intrinsic+json": {
              "type": "string"
            },
            "text/plain": [
              "'              precision    recall  f1-score   support\\n\\n           0       0.98      0.99      0.99       447\\n           1       0.88      0.81      0.85      1019\\n           2       0.84      0.90      0.87      1094\\n\\n    accuracy                           0.88      2560\\n   macro avg       0.90      0.90      0.90      2560\\nweighted avg       0.88      0.88      0.88      2560\\n'"
            ]
          },
          "execution_count": 34,
          "metadata": {},
          "output_type": "execute_result"
        }
      ],
      "source": [
        "import tensorflow as tf\n",
        "from keras.models import load_model\n",
        "from sklearn.metrics import classification_report\n",
        "import numpy as np\n",
        "\n",
        "# Load the saved model\n",
        "model_path = \"/content/drive/MyDrive/NLP Project Files/task_1_4_input_weights.h5\"\n",
        "model = load_model(model_path)\n",
        "\n",
        "# Make predictions for both train and validation sets\n",
        "y_train_pred = model.predict([X1_train, X2_train, X3_train])\n",
        "y_val_pred = model.predict([X1_val, X2_val, X3_val])\n",
        "\n",
        "# Convert the predictions to class labels\n",
        "y_train_pred_classes = np.argmax(y_train_pred, axis=1)\n",
        "y_val_pred_classes = np.argmax(y_val_pred, axis=1)\n",
        "\n",
        "# Convert one-hot encoded labels back to class labels\n",
        "y_train_classes = np.argmax(y_train, axis=1)\n",
        "y_val_classes = np.argmax(y_val, axis=1)\n",
        "\n",
        "# Calculate and print the classification reports\n",
        "train_classification_report = classification_report(y_train_classes, y_train_pred_classes)\n",
        "val_classification_report = classification_report(y_val_classes, y_val_pred_classes)\n",
        "\n",
        "train_classification_report\n"
      ]
    },
    {
      "cell_type": "code",
      "execution_count": null,
      "metadata": {
        "colab": {
          "base_uri": "https://localhost:8080/",
          "height": 70
        },
        "id": "Q3Ogu5kPzRBn",
        "outputId": "628a7052-bfc6-4b84-e16a-a402e190f4cf"
      },
      "outputs": [
        {
          "data": {
            "application/vnd.google.colaboratory.intrinsic+json": {
              "type": "string"
            },
            "text/plain": [
              "'              precision    recall  f1-score   support\\n\\n           0       0.36      0.28      0.31       112\\n           1       0.52      0.47      0.49       255\\n           2       0.51      0.60      0.55       273\\n\\n    accuracy                           0.49       640\\n   macro avg       0.46      0.45      0.45       640\\nweighted avg       0.48      0.49      0.48       640\\n'"
            ]
          },
          "execution_count": 35,
          "metadata": {},
          "output_type": "execute_result"
        }
      ],
      "source": [
        "val_classification_report"
      ]
    },
    {
      "cell_type": "code",
      "execution_count": null,
      "metadata": {
        "colab": {
          "base_uri": "https://localhost:8080/"
        },
        "id": "NKOsRG06zVfA",
        "outputId": "2a8505de-cb74-45a5-b321-fc70dc1ad0ed"
      },
      "outputs": [
        {
          "name": "stdout",
          "output_type": "stream",
          "text": [
            "              precision    recall  f1-score   support\n",
            "\n",
            "           0       0.98      0.99      0.99       447\n",
            "           1       0.88      0.81      0.85      1019\n",
            "           2       0.84      0.90      0.87      1094\n",
            "\n",
            "    accuracy                           0.88      2560\n",
            "   macro avg       0.90      0.90      0.90      2560\n",
            "weighted avg       0.88      0.88      0.88      2560\n",
            "\n"
          ]
        }
      ],
      "source": [
        "print(train_classification_report)"
      ]
    },
    {
      "cell_type": "code",
      "execution_count": null,
      "metadata": {
        "colab": {
          "base_uri": "https://localhost:8080/"
        },
        "id": "CH5mwQ9x0Pa9",
        "outputId": "1270bcb2-e278-4fbc-e232-36a216cee3e8"
      },
      "outputs": [
        {
          "name": "stdout",
          "output_type": "stream",
          "text": [
            "              precision    recall  f1-score   support\n",
            "\n",
            "           0       0.36      0.28      0.31       112\n",
            "           1       0.52      0.47      0.49       255\n",
            "           2       0.51      0.60      0.55       273\n",
            "\n",
            "    accuracy                           0.49       640\n",
            "   macro avg       0.46      0.45      0.45       640\n",
            "weighted avg       0.48      0.49      0.48       640\n",
            "\n"
          ]
        }
      ],
      "source": [
        "print(val_classification_report)"
      ]
    },
    {
      "cell_type": "code",
      "execution_count": null,
      "metadata": {
        "colab": {
          "base_uri": "https://localhost:8080/",
          "height": 237
        },
        "id": "Kmw6YJ6m1A17",
        "outputId": "15411ded-f54f-4a2e-90cb-fc80ca0c09c1"
      },
      "outputs": [
        {
          "data": {
            "text/html": [
              "\n",
              "  <div id=\"df-ce6d21d1-c19c-4797-b2b3-0c5c15a3d13c\">\n",
              "    <div class=\"colab-df-container\">\n",
              "      <div>\n",
              "<style scoped>\n",
              "    .dataframe tbody tr th:only-of-type {\n",
              "        vertical-align: middle;\n",
              "    }\n",
              "\n",
              "    .dataframe tbody tr th {\n",
              "        vertical-align: top;\n",
              "    }\n",
              "\n",
              "    .dataframe thead th {\n",
              "        text-align: right;\n",
              "    }\n",
              "</style>\n",
              "<table border=\"1\" class=\"dataframe\">\n",
              "  <thead>\n",
              "    <tr style=\"text-align: right;\">\n",
              "      <th></th>\n",
              "      <th>precision</th>\n",
              "      <th>recall</th>\n",
              "      <th>f1-score</th>\n",
              "      <th>support</th>\n",
              "    </tr>\n",
              "  </thead>\n",
              "  <tbody>\n",
              "    <tr>\n",
              "      <th>0</th>\n",
              "      <td>0.360465</td>\n",
              "      <td>0.276786</td>\n",
              "      <td>0.313131</td>\n",
              "      <td>112.000000</td>\n",
              "    </tr>\n",
              "    <tr>\n",
              "      <th>1</th>\n",
              "      <td>0.515021</td>\n",
              "      <td>0.470588</td>\n",
              "      <td>0.491803</td>\n",
              "      <td>255.000000</td>\n",
              "    </tr>\n",
              "    <tr>\n",
              "      <th>2</th>\n",
              "      <td>0.507788</td>\n",
              "      <td>0.597070</td>\n",
              "      <td>0.548822</td>\n",
              "      <td>273.000000</td>\n",
              "    </tr>\n",
              "    <tr>\n",
              "      <th>accuracy</th>\n",
              "      <td>0.490625</td>\n",
              "      <td>0.490625</td>\n",
              "      <td>0.490625</td>\n",
              "      <td>0.490625</td>\n",
              "    </tr>\n",
              "    <tr>\n",
              "      <th>macro avg</th>\n",
              "      <td>0.461092</td>\n",
              "      <td>0.448148</td>\n",
              "      <td>0.451252</td>\n",
              "      <td>640.000000</td>\n",
              "    </tr>\n",
              "    <tr>\n",
              "      <th>weighted avg</th>\n",
              "      <td>0.484889</td>\n",
              "      <td>0.490625</td>\n",
              "      <td>0.484858</td>\n",
              "      <td>640.000000</td>\n",
              "    </tr>\n",
              "  </tbody>\n",
              "</table>\n",
              "</div>\n",
              "      <button class=\"colab-df-convert\" onclick=\"convertToInteractive('df-ce6d21d1-c19c-4797-b2b3-0c5c15a3d13c')\"\n",
              "              title=\"Convert this dataframe to an interactive table.\"\n",
              "              style=\"display:none;\">\n",
              "        \n",
              "  <svg xmlns=\"http://www.w3.org/2000/svg\" height=\"24px\"viewBox=\"0 0 24 24\"\n",
              "       width=\"24px\">\n",
              "    <path d=\"M0 0h24v24H0V0z\" fill=\"none\"/>\n",
              "    <path d=\"M18.56 5.44l.94 2.06.94-2.06 2.06-.94-2.06-.94-.94-2.06-.94 2.06-2.06.94zm-11 1L8.5 8.5l.94-2.06 2.06-.94-2.06-.94L8.5 2.5l-.94 2.06-2.06.94zm10 10l.94 2.06.94-2.06 2.06-.94-2.06-.94-.94-2.06-.94 2.06-2.06.94z\"/><path d=\"M17.41 7.96l-1.37-1.37c-.4-.4-.92-.59-1.43-.59-.52 0-1.04.2-1.43.59L10.3 9.45l-7.72 7.72c-.78.78-.78 2.05 0 2.83L4 21.41c.39.39.9.59 1.41.59.51 0 1.02-.2 1.41-.59l7.78-7.78 2.81-2.81c.8-.78.8-2.07 0-2.86zM5.41 20L4 18.59l7.72-7.72 1.47 1.35L5.41 20z\"/>\n",
              "  </svg>\n",
              "      </button>\n",
              "      \n",
              "  <style>\n",
              "    .colab-df-container {\n",
              "      display:flex;\n",
              "      flex-wrap:wrap;\n",
              "      gap: 12px;\n",
              "    }\n",
              "\n",
              "    .colab-df-convert {\n",
              "      background-color: #E8F0FE;\n",
              "      border: none;\n",
              "      border-radius: 50%;\n",
              "      cursor: pointer;\n",
              "      display: none;\n",
              "      fill: #1967D2;\n",
              "      height: 32px;\n",
              "      padding: 0 0 0 0;\n",
              "      width: 32px;\n",
              "    }\n",
              "\n",
              "    .colab-df-convert:hover {\n",
              "      background-color: #E2EBFA;\n",
              "      box-shadow: 0px 1px 2px rgba(60, 64, 67, 0.3), 0px 1px 3px 1px rgba(60, 64, 67, 0.15);\n",
              "      fill: #174EA6;\n",
              "    }\n",
              "\n",
              "    [theme=dark] .colab-df-convert {\n",
              "      background-color: #3B4455;\n",
              "      fill: #D2E3FC;\n",
              "    }\n",
              "\n",
              "    [theme=dark] .colab-df-convert:hover {\n",
              "      background-color: #434B5C;\n",
              "      box-shadow: 0px 1px 3px 1px rgba(0, 0, 0, 0.15);\n",
              "      filter: drop-shadow(0px 1px 2px rgba(0, 0, 0, 0.3));\n",
              "      fill: #FFFFFF;\n",
              "    }\n",
              "  </style>\n",
              "\n",
              "      <script>\n",
              "        const buttonEl =\n",
              "          document.querySelector('#df-ce6d21d1-c19c-4797-b2b3-0c5c15a3d13c button.colab-df-convert');\n",
              "        buttonEl.style.display =\n",
              "          google.colab.kernel.accessAllowed ? 'block' : 'none';\n",
              "\n",
              "        async function convertToInteractive(key) {\n",
              "          const element = document.querySelector('#df-ce6d21d1-c19c-4797-b2b3-0c5c15a3d13c');\n",
              "          const dataTable =\n",
              "            await google.colab.kernel.invokeFunction('convertToInteractive',\n",
              "                                                     [key], {});\n",
              "          if (!dataTable) return;\n",
              "\n",
              "          const docLinkHtml = 'Like what you see? Visit the ' +\n",
              "            '<a target=\"_blank\" href=https://colab.research.google.com/notebooks/data_table.ipynb>data table notebook</a>'\n",
              "            + ' to learn more about interactive tables.';\n",
              "          element.innerHTML = '';\n",
              "          dataTable['output_type'] = 'display_data';\n",
              "          await google.colab.output.renderOutput(dataTable, element);\n",
              "          const docLink = document.createElement('div');\n",
              "          docLink.innerHTML = docLinkHtml;\n",
              "          element.appendChild(docLink);\n",
              "        }\n",
              "      </script>\n",
              "    </div>\n",
              "  </div>\n",
              "  "
            ],
            "text/plain": [
              "              precision    recall  f1-score     support\n",
              "0              0.360465  0.276786  0.313131  112.000000\n",
              "1              0.515021  0.470588  0.491803  255.000000\n",
              "2              0.507788  0.597070  0.548822  273.000000\n",
              "accuracy       0.490625  0.490625  0.490625    0.490625\n",
              "macro avg      0.461092  0.448148  0.451252  640.000000\n",
              "weighted avg   0.484889  0.490625  0.484858  640.000000"
            ]
          },
          "execution_count": 47,
          "metadata": {},
          "output_type": "execute_result"
        }
      ],
      "source": [
        "train_classification_report = classification_report(y_train_classes, y_train_pred_classes, output_dict = True)\n",
        "val_classification_report = classification_report(y_val_classes, y_val_pred_classes, output_dict = True)\n",
        "\n",
        "report_df = pd.DataFrame(val_classification_report)\n",
        "\n",
        "report_df = report_df.transpose()\n",
        "\n",
        "report_df"
      ]
    },
    {
      "cell_type": "code",
      "execution_count": null,
      "metadata": {
        "colab": {
          "base_uri": "https://localhost:8080/",
          "height": 455
        },
        "id": "11MZIN8R9u3e",
        "outputId": "e0dbf983-4325-4911-fc1a-834a9a3e66a4"
      },
      "outputs": [
        {
          "data": {
            "text/html": [
              "\n",
              "  <div id=\"df-8696c7f9-80d6-4d9e-b2d1-1887f52a9f05\">\n",
              "    <div class=\"colab-df-container\">\n",
              "      <div>\n",
              "<style scoped>\n",
              "    .dataframe tbody tr th:only-of-type {\n",
              "        vertical-align: middle;\n",
              "    }\n",
              "\n",
              "    .dataframe tbody tr th {\n",
              "        vertical-align: top;\n",
              "    }\n",
              "\n",
              "    .dataframe thead th {\n",
              "        text-align: right;\n",
              "    }\n",
              "</style>\n",
              "<table border=\"1\" class=\"dataframe\">\n",
              "  <thead>\n",
              "    <tr style=\"text-align: right;\">\n",
              "      <th></th>\n",
              "      <th>multi</th>\n",
              "      <th>passage</th>\n",
              "      <th>phrase</th>\n",
              "    </tr>\n",
              "    <tr>\n",
              "      <th>uuid</th>\n",
              "      <th></th>\n",
              "      <th></th>\n",
              "      <th></th>\n",
              "    </tr>\n",
              "  </thead>\n",
              "  <tbody>\n",
              "    <tr>\n",
              "      <th>0af11f6b-c889-4520-9372-66ba25cb7657</th>\n",
              "      <td>0</td>\n",
              "      <td>1</td>\n",
              "      <td>0</td>\n",
              "    </tr>\n",
              "    <tr>\n",
              "      <th>b1a1f63d-8853-4a11-89e8-6b2952a393ec</th>\n",
              "      <td>0</td>\n",
              "      <td>0</td>\n",
              "      <td>1</td>\n",
              "    </tr>\n",
              "    <tr>\n",
              "      <th>008b7b19-0445-4e16-8f9e-075b73f80ca4</th>\n",
              "      <td>0</td>\n",
              "      <td>0</td>\n",
              "      <td>1</td>\n",
              "    </tr>\n",
              "    <tr>\n",
              "      <th>31ecf93c-3e21-4c80-949b-aa549a046b93</th>\n",
              "      <td>1</td>\n",
              "      <td>0</td>\n",
              "      <td>0</td>\n",
              "    </tr>\n",
              "    <tr>\n",
              "      <th>31b108a3-c828-421a-a4b9-cf651e9ac859</th>\n",
              "      <td>0</td>\n",
              "      <td>0</td>\n",
              "      <td>1</td>\n",
              "    </tr>\n",
              "    <tr>\n",
              "      <th>...</th>\n",
              "      <td>...</td>\n",
              "      <td>...</td>\n",
              "      <td>...</td>\n",
              "    </tr>\n",
              "    <tr>\n",
              "      <th>92578045-699f-4957-a3c5-cff2c3874dae</th>\n",
              "      <td>0</td>\n",
              "      <td>1</td>\n",
              "      <td>0</td>\n",
              "    </tr>\n",
              "    <tr>\n",
              "      <th>51682121-df0b-4289-a95f-e1bc3d181306</th>\n",
              "      <td>0</td>\n",
              "      <td>1</td>\n",
              "      <td>0</td>\n",
              "    </tr>\n",
              "    <tr>\n",
              "      <th>9c45ca67-38c4-47b4-aa0d-48434bae09fc</th>\n",
              "      <td>1</td>\n",
              "      <td>0</td>\n",
              "      <td>0</td>\n",
              "    </tr>\n",
              "    <tr>\n",
              "      <th>9d05984c-3920-47c0-aa97-8df58cca1fec</th>\n",
              "      <td>0</td>\n",
              "      <td>0</td>\n",
              "      <td>1</td>\n",
              "    </tr>\n",
              "    <tr>\n",
              "      <th>0d9e3a31-77f7-414a-9d70-5213f2c0cd94</th>\n",
              "      <td>0</td>\n",
              "      <td>0</td>\n",
              "      <td>1</td>\n",
              "    </tr>\n",
              "  </tbody>\n",
              "</table>\n",
              "<p>3200 rows × 3 columns</p>\n",
              "</div>\n",
              "      <button class=\"colab-df-convert\" onclick=\"convertToInteractive('df-8696c7f9-80d6-4d9e-b2d1-1887f52a9f05')\"\n",
              "              title=\"Convert this dataframe to an interactive table.\"\n",
              "              style=\"display:none;\">\n",
              "        \n",
              "  <svg xmlns=\"http://www.w3.org/2000/svg\" height=\"24px\"viewBox=\"0 0 24 24\"\n",
              "       width=\"24px\">\n",
              "    <path d=\"M0 0h24v24H0V0z\" fill=\"none\"/>\n",
              "    <path d=\"M18.56 5.44l.94 2.06.94-2.06 2.06-.94-2.06-.94-.94-2.06-.94 2.06-2.06.94zm-11 1L8.5 8.5l.94-2.06 2.06-.94-2.06-.94L8.5 2.5l-.94 2.06-2.06.94zm10 10l.94 2.06.94-2.06 2.06-.94-2.06-.94-.94-2.06-.94 2.06-2.06.94z\"/><path d=\"M17.41 7.96l-1.37-1.37c-.4-.4-.92-.59-1.43-.59-.52 0-1.04.2-1.43.59L10.3 9.45l-7.72 7.72c-.78.78-.78 2.05 0 2.83L4 21.41c.39.39.9.59 1.41.59.51 0 1.02-.2 1.41-.59l7.78-7.78 2.81-2.81c.8-.78.8-2.07 0-2.86zM5.41 20L4 18.59l7.72-7.72 1.47 1.35L5.41 20z\"/>\n",
              "  </svg>\n",
              "      </button>\n",
              "      \n",
              "  <style>\n",
              "    .colab-df-container {\n",
              "      display:flex;\n",
              "      flex-wrap:wrap;\n",
              "      gap: 12px;\n",
              "    }\n",
              "\n",
              "    .colab-df-convert {\n",
              "      background-color: #E8F0FE;\n",
              "      border: none;\n",
              "      border-radius: 50%;\n",
              "      cursor: pointer;\n",
              "      display: none;\n",
              "      fill: #1967D2;\n",
              "      height: 32px;\n",
              "      padding: 0 0 0 0;\n",
              "      width: 32px;\n",
              "    }\n",
              "\n",
              "    .colab-df-convert:hover {\n",
              "      background-color: #E2EBFA;\n",
              "      box-shadow: 0px 1px 2px rgba(60, 64, 67, 0.3), 0px 1px 3px 1px rgba(60, 64, 67, 0.15);\n",
              "      fill: #174EA6;\n",
              "    }\n",
              "\n",
              "    [theme=dark] .colab-df-convert {\n",
              "      background-color: #3B4455;\n",
              "      fill: #D2E3FC;\n",
              "    }\n",
              "\n",
              "    [theme=dark] .colab-df-convert:hover {\n",
              "      background-color: #434B5C;\n",
              "      box-shadow: 0px 1px 3px 1px rgba(0, 0, 0, 0.15);\n",
              "      filter: drop-shadow(0px 1px 2px rgba(0, 0, 0, 0.3));\n",
              "      fill: #FFFFFF;\n",
              "    }\n",
              "  </style>\n",
              "\n",
              "      <script>\n",
              "        const buttonEl =\n",
              "          document.querySelector('#df-8696c7f9-80d6-4d9e-b2d1-1887f52a9f05 button.colab-df-convert');\n",
              "        buttonEl.style.display =\n",
              "          google.colab.kernel.accessAllowed ? 'block' : 'none';\n",
              "\n",
              "        async function convertToInteractive(key) {\n",
              "          const element = document.querySelector('#df-8696c7f9-80d6-4d9e-b2d1-1887f52a9f05');\n",
              "          const dataTable =\n",
              "            await google.colab.kernel.invokeFunction('convertToInteractive',\n",
              "                                                     [key], {});\n",
              "          if (!dataTable) return;\n",
              "\n",
              "          const docLinkHtml = 'Like what you see? Visit the ' +\n",
              "            '<a target=\"_blank\" href=https://colab.research.google.com/notebooks/data_table.ipynb>data table notebook</a>'\n",
              "            + ' to learn more about interactive tables.';\n",
              "          element.innerHTML = '';\n",
              "          dataTable['output_type'] = 'display_data';\n",
              "          await google.colab.output.renderOutput(dataTable, element);\n",
              "          const docLink = document.createElement('div');\n",
              "          docLink.innerHTML = docLinkHtml;\n",
              "          element.appendChild(docLink);\n",
              "        }\n",
              "      </script>\n",
              "    </div>\n",
              "  </div>\n",
              "  "
            ],
            "text/plain": [
              "                                      multi  passage  phrase\n",
              "uuid                                                        \n",
              "0af11f6b-c889-4520-9372-66ba25cb7657      0        1       0\n",
              "b1a1f63d-8853-4a11-89e8-6b2952a393ec      0        0       1\n",
              "008b7b19-0445-4e16-8f9e-075b73f80ca4      0        0       1\n",
              "31ecf93c-3e21-4c80-949b-aa549a046b93      1        0       0\n",
              "31b108a3-c828-421a-a4b9-cf651e9ac859      0        0       1\n",
              "...                                     ...      ...     ...\n",
              "92578045-699f-4957-a3c5-cff2c3874dae      0        1       0\n",
              "51682121-df0b-4289-a95f-e1bc3d181306      0        1       0\n",
              "9c45ca67-38c4-47b4-aa0d-48434bae09fc      1        0       0\n",
              "9d05984c-3920-47c0-aa97-8df58cca1fec      0        0       1\n",
              "0d9e3a31-77f7-414a-9d70-5213f2c0cd94      0        0       1\n",
              "\n",
              "[3200 rows x 3 columns]"
            ]
          },
          "execution_count": 51,
          "metadata": {},
          "output_type": "execute_result"
        }
      ],
      "source": [
        "dummies"
      ]
    },
    {
      "cell_type": "code",
      "execution_count": null,
      "metadata": {
        "id": "02jQFzZw6oCA"
      },
      "outputs": [],
      "source": [
        "test_import['tags'].map(lambda x: x[0]).value_counts(normalize = True)"
      ]
    },
    {
      "cell_type": "code",
      "execution_count": null,
      "metadata": {
        "id": "J1Hu9EoCu4Zg"
      },
      "outputs": [],
      "source": [
        "train_import['tags'].value_counts(normalize = True)"
      ]
    },
    {
      "cell_type": "code",
      "execution_count": null,
      "metadata": {
        "id": "UKWGvVVMwBCK"
      },
      "outputs": [],
      "source": [
        "plt.plot(history.history['accuracy'])\n",
        "plt.plot(history.history['val_accuracy'])\n",
        "plt.title('Model Accuracy')\n",
        "plt.ylabel('Accuracy')\n",
        "plt.xlabel('Epoch')\n",
        "plt.legend(['Train', 'Validation'], loc='upper left')\n",
        "plt.show()\n",
        "\n",
        "plt.plot(history.history['loss'])\n",
        "plt.plot(history.history['val_loss'])\n",
        "plt.title('Model Loss')\n",
        "plt.ylabel('Loss')\n",
        "plt.xlabel('Epoch')\n",
        "plt.legend(['Train', 'Validation'], loc='upper right')\n",
        "plt.show()"
      ]
    },
    {
      "cell_type": "code",
      "execution_count": null,
      "metadata": {
        "id": "88lLhL7H6w4v"
      },
      "outputs": [],
      "source": [
        "from keras.utils import plot_model\n",
        "\n",
        "plot_model(model, to_file='/content/drive/MyDrive/NLP Project Files/model_plot.png', show_shapes=True, show_layer_names=True)"
      ]
    }
  ],
  "metadata": {
    "accelerator": "GPU",
    "colab": {
      "machine_shape": "hm",
      "provenance": []
    },
    "gpuClass": "premium",
    "kernelspec": {
      "display_name": "Python 3",
      "name": "python3"
    },
    "language_info": {
      "name": "python"
    }
  },
  "nbformat": 4,
  "nbformat_minor": 0
}
